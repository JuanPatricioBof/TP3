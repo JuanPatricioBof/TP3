{
 "cells": [
  {
   "cell_type": "code",
   "execution_count": 1,
   "id": "88b75453",
   "metadata": {},
   "outputs": [],
   "source": [
    "from pathlib import Path\n",
    "from src.unir_csvs.unir_individuos import unir_archivos_individuos\n",
    "# Obtener la ruta base del proyecto (el directorio donde se ejecuta el script principal)\n",
    "ruta_base = Path.cwd() # Esto asegura que se obtenga la ruta absoluta y base del proyecto"
   ]
  },
  {
   "cell_type": "code",
   "execution_count": 2,
   "id": "b4b63c75",
   "metadata": {},
   "outputs": [],
   "source": [
    "ruta_entrada = ruta_base / 'datos'\n",
    "archivo_salida_individuos = ruta_base / 'files_compactados' / 'individuos_unidos.csv'"
   ]
  },
  {
   "cell_type": "code",
   "execution_count": 3,
   "id": "25efdb76",
   "metadata": {},
   "outputs": [],
   "source": [
    "# Para los individuos\n",
    "unir_archivos_individuos(ruta_entrada,archivo_salida_individuos )"
   ]
  }
 ],
 "metadata": {
  "kernelspec": {
   "display_name": "venv",
   "language": "python",
   "name": "python3"
  },
  "language_info": {
   "codemirror_mode": {
    "name": "ipython",
    "version": 3
   },
   "file_extension": ".py",
   "mimetype": "text/x-python",
   "name": "python",
   "nbconvert_exporter": "python",
   "pygments_lexer": "ipython3",
   "version": "3.12.9"
  }
 },
 "nbformat": 4,
 "nbformat_minor": 5
}
